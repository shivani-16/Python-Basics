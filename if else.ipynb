{
 "cells": [
  {
   "cell_type": "code",
   "execution_count": 1,
   "metadata": {},
   "outputs": [],
   "source": [
    "#declaring variables in python\n",
    "a=10\n",
    "b=9\n",
    "if a<b:\n",
    "    print('a is small')#this statement will print the message"
   ]
  },
  {
   "cell_type": "code",
   "execution_count": 2,
   "metadata": {},
   "outputs": [
    {
     "ename": "SyntaxError",
     "evalue": "invalid syntax (<ipython-input-2-ad23bae27ee6>, line 1)",
     "output_type": "error",
     "traceback": [
      "\u001b[1;36m  File \u001b[1;32m\"<ipython-input-2-ad23bae27ee6>\"\u001b[1;36m, line \u001b[1;32m1\u001b[0m\n\u001b[1;33m    else\u001b[0m\n\u001b[1;37m       ^\u001b[0m\n\u001b[1;31mSyntaxError\u001b[0m\u001b[1;31m:\u001b[0m invalid syntax\n"
     ]
    }
   ],
   "source": [
    "else \n",
    "print('b is small')"
   ]
  },
  {
   "cell_type": "code",
   "execution_count": 3,
   "metadata": {},
   "outputs": [
    {
     "ename": "SyntaxError",
     "evalue": "invalid syntax (<ipython-input-3-84bebe683d6c>, line 1)",
     "output_type": "error",
     "traceback": [
      "\u001b[1;36m  File \u001b[1;32m\"<ipython-input-3-84bebe683d6c>\"\u001b[1;36m, line \u001b[1;32m1\u001b[0m\n\u001b[1;33m    else:\u001b[0m\n\u001b[1;37m       ^\u001b[0m\n\u001b[1;31mSyntaxError\u001b[0m\u001b[1;31m:\u001b[0m invalid syntax\n"
     ]
    }
   ],
   "source": [
    "else: \n",
    "    print('b is small')"
   ]
  },
  {
   "cell_type": "code",
   "execution_count": 13,
   "metadata": {},
   "outputs": [
    {
     "name": "stdout",
     "output_type": "stream",
     "text": [
      "a is greater than b by more than  10\n"
     ]
    }
   ],
   "source": [
    "#program to show greater than , equal to or less than\n",
    "a=20\n",
    "b=8\n",
    "if a<b:\n",
    "    print('a is small')\n",
    "elif a==b:\n",
    "    print('a is equal to b')\n",
    "elif a > b + 10:\n",
    "    print('a is greater than b by more than  10')\n",
    "else:\n",
    "    print('b is small')"
   ]
  },
  {
   "cell_type": "code",
   "execution_count": 16,
   "metadata": {},
   "outputs": [
    {
     "name": "stdout",
     "output_type": "stream",
     "text": [
      "h is small\n"
     ]
    }
   ],
   "source": [
    "#if block within elase block\n",
    "g=8\n",
    "h=5\n",
    "if g<h:\n",
    "    print(\"g is small\")\n",
    "else:\n",
    "    if g==h:\n",
    "        print(\"g is equal to h\")\n",
    "    else:\n",
    "        print(\"h is small\")"
   ]
  },
  {
   "cell_type": "code",
   "execution_count": 18,
   "metadata": {},
   "outputs": [
    {
     "name": "stdout",
     "output_type": "stream",
     "text": [
      "165\n",
      "55.0\n",
      "55.00000000000001\n",
      "better luck next time\n"
     ]
    }
   ],
   "source": [
    "#calculate grade \n",
    "#you can take input from user as well\n",
    "maths=55\n",
    "english=50\n",
    "hindi=60\n",
    "total=maths+english+hindi\n",
    "average=total/3\n",
    "percentage=total/300*100\n",
    "print(total)\n",
    "print(average)\n",
    "print(percentage)\n",
    "if percentage<75:\n",
    "    print(\"better luck next time\")\n",
    "else:\n",
    "    print(\"congratulations\")\n",
    "    "
   ]
  },
  {
   "cell_type": "code",
   "execution_count": 16,
   "metadata": {},
   "outputs": [
    {
     "name": "stdout",
     "output_type": "stream",
     "text": [
      "Enter marks of maths:90\n",
      "Enter marks of english:78\n",
      "Enter marks of hindi:86\n",
      "Enter marks of computers:88\n",
      "Total: 342\n",
      "average= 85\n",
      "percentage: 85.5\n"
     ]
    }
   ],
   "source": [
    "#take input from users\n",
    "maths=int(input(\"Enter marks of maths:\"))\n",
    "english=int(input(\"Enter marks of english:\"))\n",
    "hindi=int(input(\"Enter marks of hindi:\"))\n",
    "computers=int(input(\"Enter marks of computers:\"))\n",
    "total=maths+english+hindi+computers\n",
    "print(\"Total:\",total)\n",
    "avg=int(total/4)\n",
    "print(\"average=\",avg)\n",
    "per= total/400*100\n",
    "print(\"percentage:\",per)"
   ]
  },
  {
   "cell_type": "code",
   "execution_count": null,
   "metadata": {},
   "outputs": [],
   "source": []
  }
 ],
 "metadata": {
  "kernelspec": {
   "display_name": "Python 3",
   "language": "python",
   "name": "python3"
  },
  "language_info": {
   "codemirror_mode": {
    "name": "ipython",
    "version": 3
   },
   "file_extension": ".py",
   "mimetype": "text/x-python",
   "name": "python",
   "nbconvert_exporter": "python",
   "pygments_lexer": "ipython3",
   "version": "3.6.5"
  }
 },
 "nbformat": 4,
 "nbformat_minor": 2
}
